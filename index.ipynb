{
 "cells": [
  {
   "cell_type": "raw",
   "metadata": {
    "vscode": {
     "languageId": "raw"
    }
   },
   "source": [
    "---\n",
    "title: \"Hyperopt Handbook\"\n",
    "format: html\n",
    "---"
   ]
  },
  {
   "cell_type": "markdown",
   "metadata": {},
   "source": [
    "\n",
    "\n",
    "## Why This Handbook?\n",
    "\n",
    "\n",
    "## Install\n",
    "you can install `hyperopt` with\n",
    "\n",
    "\n",
    "```python\n",
    "pip install hyperopt\n",
    "```\n",
    "or\n",
    "\n",
    "```python\n",
    "conda install -c conda-forge hyperopt\n",
    "```\n",
    "\n",
    "## Quick Start\n",
    "### minimal example\n"
   ]
  },
  {
   "cell_type": "code",
   "execution_count": 17,
   "metadata": {},
   "outputs": [
    {
     "name": "stdout",
     "output_type": "stream",
     "text": [
      "  0%|          | 0/600 [00:00<?, ?trial/s, best loss=?]"
     ]
    },
    {
     "name": "stdout",
     "output_type": "stream",
     "text": [
      "100%|██████████| 600/600 [00:00<00:00, 1096.97trial/s, best loss: -2915.966981578958]\n"
     ]
    }
   ],
   "source": [
    "# import hyperopt\n",
    "from hyperopt import hp, fmin, tpe\n",
    "\n",
    "\n",
    "# define an objective function\n",
    "def objective(x):\n",
    "    return (x + 42) * (x - 66)  # minimum at x = 12\n",
    "\n",
    "\n",
    "# define a search space\n",
    "space = hp.uniform(\"x\", -1_000, 1_000)\n",
    "\n",
    "# minimize the objective over the space\n",
    "best = fmin(\n",
    "    objective,\n",
    "    space,\n",
    "    algo=tpe.suggest,\n",
    "    max_evals=600,\n",
    ")"
   ]
  },
  {
   "cell_type": "code",
   "execution_count": 19,
   "metadata": {},
   "outputs": [
    {
     "name": "stdout",
     "output_type": "stream",
     "text": [
      "{'x': np.float64(11.818290283578067)}\n"
     ]
    }
   ],
   "source": [
    "print(best)"
   ]
  },
  {
   "cell_type": "markdown",
   "metadata": {},
   "source": [
    "\n",
    "## End to End Walkthrough\n",
    "\n",
    "\n",
    "bala balal"
   ]
  },
  {
   "cell_type": "code",
   "execution_count": null,
   "metadata": {},
   "outputs": [],
   "source": []
  },
  {
   "cell_type": "code",
   "execution_count": null,
   "metadata": {},
   "outputs": [],
   "source": []
  }
 ],
 "metadata": {
  "kernelspec": {
   "display_name": "revo",
   "language": "python",
   "name": "python3"
  },
  "language_info": {
   "codemirror_mode": {
    "name": "ipython",
    "version": 3
   },
   "file_extension": ".py",
   "mimetype": "text/x-python",
   "name": "python",
   "nbconvert_exporter": "python",
   "pygments_lexer": "ipython3",
   "version": "3.12.4"
  }
 },
 "nbformat": 4,
 "nbformat_minor": 2
}
